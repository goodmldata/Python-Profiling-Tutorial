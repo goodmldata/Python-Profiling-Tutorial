{
 "cells": [
  {
   "cell_type": "markdown",
   "id": "954555c9-07ab-4800-9fa8-a8c5a51e6c18",
   "metadata": {},
   "source": [
    "# 2. Pytest Plugin **pytest-benchmark**"
   ]
  },
  {
   "cell_type": "markdown",
   "id": "2af5df64-3361-46db-a65c-d9428d926f72",
   "metadata": {},
   "source": [
    "## 2.1 Pytest Framework\n",
    "\n",
    "The second optimization principle says: \"Make it right!\". How can we know that the code is right? Well, we can test it. The pytest framework makes it easy to write small, readable tests, and can scale to support complex functional testing for applications and libraries.\n",
    "\n",
    "The tests for the Particle Simulator app are located in the directory called **tests**.\n",
    "\n",
    "We are using **pytest** to write, keep, and maintain our tests. The tests can be run from the project dircetory using the command:\n",
    "\n",
    "```\n",
    "$ pytest \n",
    "```\n",
    "**pytest** framework has an extensive documentation that can be found at https://docs.pytest.org.\n",
    "\n",
    "## 2.2 pytest-benchmark\n",
    "\n",
    "A benchmark is a simple and representative script that can be run to assess the running time of the application. We have already written a benchmark script for our Particle Simulator. The benchmark script is located in the directory called **benchmarks**, and we already used this script when measuring the code run time with **timeit** module and with Unix **time** command.\n",
    "\n",
    "Pytest offers a more comprehensive benchmarking solution, suitable for large applications by offerring a **pytest-benchmark** plugin.\n",
    "Please note, that **pytest-benchmark** must be installed separately:\n",
    "\n",
    "```\n",
    "$ pip install pytest-benchmark\n",
    "```\n",
    "\n"
   ]
  },
  {
   "cell_type": "markdown",
   "id": "acb7c4f7-af7b-43e4-9215-9e883d1ec88a",
   "metadata": {},
   "source": [
    "**pytest-benchmark** plugin allows to run a test as a benchmark by passing a fixture called **benchmark** as a test argument.\n",
    "\n",
    "In order to demonstrate this technique I created a directory **tests/benchmarks** and added a benchmark script called **test_bm_particle_simulator.py**. The benchmark script creates a particle simulator with 10, 100, and 1000 particles, and then evolves the particles for 0.1 unit of time. Now if we run the tests, the benchmark scripts will run as well, and the benchmarks run time statistics will be displayed. \n",
    "\n",
    "For each benchmark test, the **pytest-benchmark** will execute the benchmark function several times and provide a run time summary statistics. \n",
    "\n",
    "Benchmark scripts usually take a longer time to run than regular tests, hence it is recommended to run them separately from the regular unit tests. \n",
    "\n",
    "If you want to run bechmark tests only, use --benchmark-only option:\n",
    "```\n",
    "$ pytest --benchmark-only\n",
    "```\n",
    "\n",
    "If you want to skip running benchmark scripts, use --benchmark-skip option:\n",
    "\n",
    "```\n",
    "$ pytest --benchmark-skip\n",
    "```\n",
    "\n",
    "**GitHub**: https://github.com/ionelmc/pytest-benchmark\n",
    "\n",
    "**Documentation**: https://pytest-benchmark.readthedocs.io/en/stable/"
   ]
  },
  {
   "cell_type": "markdown",
   "id": "2e15bc70-8dbd-41b9-9846-6e63551542c3",
   "metadata": {},
   "source": [
    "## Exercise 1\n",
    "\n",
    "Create a module called **fibonacci**. The module should contain two functions. Both functions need to calculate the number in the Fibonacci sequence when *n* is given.\n",
    "\n",
    "The first function *fibonacci(n)*, must calculate the Fibonacci number using a recursion.\n",
    "\n",
    "The second function *fibonacci_cached(n)*, must calculate the Fibonacci numbers recursively and use caching.\n",
    "\n",
    "Write unittests testing both of the functions.\n",
    "\n",
    "Use Pytest benchmark to measure the performance of both functions.\n",
    "\n",
    "**Running Benchmark Tests from Command Line:**\n",
    "```\n",
    "$ pytest -s -p no:cacheprovider --benchmark-only fibonacci/\n",
    "```\n"
   ]
  },
  {
   "cell_type": "code",
   "execution_count": null,
   "id": "c5bbadcf-9ee1-4604-a441-921a39f8ad8e",
   "metadata": {},
   "outputs": [],
   "source": []
  }
 ],
 "metadata": {
  "kernelspec": {
   "display_name": "Python 3 (ipykernel)",
   "language": "python",
   "name": "python3"
  },
  "language_info": {
   "codemirror_mode": {
    "name": "ipython",
    "version": 3
   },
   "file_extension": ".py",
   "mimetype": "text/x-python",
   "name": "python",
   "nbconvert_exporter": "python",
   "pygments_lexer": "ipython3",
   "version": "3.10.12"
  }
 },
 "nbformat": 4,
 "nbformat_minor": 5
}
